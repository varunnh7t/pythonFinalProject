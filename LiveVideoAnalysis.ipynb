{
 "cells": [
  {
   "cell_type": "code",
   "execution_count": 20,
   "id": "ba9951b3-9784-4ce4-897c-4d2b378911cb",
   "metadata": {},
   "outputs": [],
   "source": [
    "#!/usr/bin/env python\n",
    "# coding: utf-8\n",
    "\n",
    "# In[13]:\n",
    "\n",
    "import time\n",
    "import cv2\n",
    "import win32com.client as wincl\n",
    "import numpy as np\n",
    "#pip install opencv-python\n",
    "#pip install keras\n",
    "#pip install --upgrade tensorflow\n",
    "face_clsfr=cv2.CascadeClassifier(cv2.data.haarcascades +'haarcascade_frontalface_default.xml')\n",
    "\n",
    "\n",
    "speak=wincl.Dispatch(\"SAPI.SpVoice\")\n",
    "labels_dict={0:'MASK',1:'NO MASK'}\n",
    "color_dict={0:(0,255,0),1:(0,0,255)}\n",
    "# load a saved model\n",
    "from keras.models import load_model\n",
    "saved_model = load_model('facemaskdetectionV1.h5')\n",
    "source=cv2.VideoCapture(0)\n",
    "while(True):\n",
    "\n",
    "    ret,img=source.read()\n",
    "    gray=cv2.cvtColor(img,cv2.COLOR_BGR2GRAY)\n",
    "    faces=face_clsfr.detectMultiScale(gray,\n",
    "        scaleFactor=1.03,\n",
    "        minNeighbors=4,\n",
    "        minSize=(122,122),\n",
    "        flags=cv2.CASCADE_SCALE_IMAGE)  \n",
    "\n",
    "    for (x,y,w,h) in faces:\n",
    "    \n",
    "        face_img=gray[y:y+w,x:x+w]\n",
    "        resized=cv2.resize(face_img,(122,122))\n",
    "        normalized=resized/255.0\n",
    "        reshaped=np.reshape(normalized,(1,122,122,1))\n",
    "        result=saved_model.predict(reshaped)\n",
    "        label=np.argmax(result,axis=1)[0]\n",
    "        \n",
    "        confidence=(np.max(result,axis=1))*100\n",
    "        confidence=int(confidence)\n",
    "        cv2.rectangle(img,(x,y),(x+w,y+h),color_dict[label],2)\n",
    "        cv2.rectangle(img,(x,y-40),(x+w,y),color_dict[label],-1)\n",
    "        cv2.putText(img, labels_dict[label]+\" \"+ str(round(confidence)), (x, y-10),cv2.FONT_HERSHEY_SIMPLEX,0.8,(255,255,255),2)\n",
    "        '''if label==1:\n",
    "            speak.Speak(\"Please where a Mask'\")\n",
    "        else:\n",
    "            print(\"you are good to go\")'''\n",
    "        \n",
    "        \n",
    "    cv2.imshow('LIVE',img)\n",
    "    key=cv2.waitKey(1)\n",
    "    \n",
    "    if(key==27):\n",
    "        break\n",
    "        \n",
    "cv2.destroyAllWindows()\n",
    "source.release()\n",
    "\n"
   ]
  },
  {
   "cell_type": "code",
   "execution_count": 19,
   "id": "ab565418-6bf5-4a46-8423-252df85a5ccf",
   "metadata": {},
   "outputs": [
    {
     "ename": "SyntaxError",
     "evalue": "invalid syntax (Temp/ipykernel_3272/3411925249.py, line 1)",
     "output_type": "error",
     "traceback": [
      "\u001b[1;36m  File \u001b[1;32m\"C:\\Users\\varun\\AppData\\Local\\Temp/ipykernel_3272/3411925249.py\"\u001b[1;36m, line \u001b[1;32m1\u001b[0m\n\u001b[1;33m    pip3 install opencv-python\u001b[0m\n\u001b[1;37m         ^\u001b[0m\n\u001b[1;31mSyntaxError\u001b[0m\u001b[1;31m:\u001b[0m invalid syntax\n"
     ]
    }
   ],
   "source": [
    "pip3 install opencv-python\n",
    "pip install keras\n",
    "pip install --upgrade tensorflow"
   ]
  },
  {
   "cell_type": "code",
   "execution_count": null,
   "id": "e375ad82-9ad4-49c0-8909-73eaa07fec22",
   "metadata": {},
   "outputs": [],
   "source": []
  }
 ],
 "metadata": {
  "kernelspec": {
   "display_name": "Python 3 (ipykernel)",
   "language": "python",
   "name": "python3"
  },
  "language_info": {
   "codemirror_mode": {
    "name": "ipython",
    "version": 3
   },
   "file_extension": ".py",
   "mimetype": "text/x-python",
   "name": "python",
   "nbconvert_exporter": "python",
   "pygments_lexer": "ipython3",
   "version": "3.9.7"
  }
 },
 "nbformat": 4,
 "nbformat_minor": 5
}
